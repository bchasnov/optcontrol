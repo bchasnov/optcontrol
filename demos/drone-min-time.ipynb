{
 "cells": [
  {
   "cell_type": "code",
   "execution_count": 1,
   "metadata": {},
   "outputs": [],
   "source": [
    "%load_ext autoreload\n",
    "%autoreload 2\n",
    "\n",
    "import cvxpy as cp\n",
    "import numpy as np\n",
    "import numpy.linalg as la\n",
    "from argparse import Namespace\n",
    "import matplotlib.pyplot as plt\n",
    "import time"
   ]
  },
  {
   "cell_type": "code",
   "execution_count": 2,
   "metadata": {},
   "outputs": [
    {
     "name": "stdout",
     "output_type": "stream",
     "text": [
      "T=25.00s trust=0.02153 rf_relax=26.24803 wp_relax=8.57079 \n",
      "T=23.95s trust=0.23454 rf_relax=0.00000 wp_relax=0.00000 \n",
      "T=12.22s trust=0.12096 rf_relax=0.00000 wp_relax=0.00000 \n",
      "T=6.17s trust=0.06141 rf_relax=0.00000 wp_relax=0.00000 \n",
      "T=3.10s trust=0.03094 rf_relax=0.00000 wp_relax=0.00000 \n",
      "T=1.55s trust=0.00546 rf_relax=0.07536 wp_relax=0.09645 \n",
      "T=1.28s trust=0.00235 rf_relax=0.09346 wp_relax=0.08758 \n",
      "T=1.40s trust=0.00026 rf_relax=0.09236 wp_relax=0.08921 \n",
      "T=1.39s trust=0.00007 rf_relax=0.09282 wp_relax=0.08876 \n",
      "T=1.39s trust=0.00001 rf_relax=0.09290 wp_relax=0.08868 \n",
      "T=1.39s trust=0.00002 rf_relax=0.09280 wp_relax=0.08878 \n",
      "T=1.39s trust=0.00001 rf_relax=0.09290 wp_relax=0.08868 \n",
      "T=1.39s trust=0.00002 rf_relax=0.09280 wp_relax=0.08878 \n",
      "T=1.39s trust=0.00001 rf_relax=0.09290 wp_relax=0.08868 \n",
      "T=1.39s trust=0.00002 rf_relax=0.09280 wp_relax=0.08878 \n",
      "T=1.39s trust=0.00001 rf_relax=0.09290 wp_relax=0.08868 \n",
      "T=1.39s trust=0.00002 rf_relax=0.09280 wp_relax=0.08878 \n",
      "T=1.39s trust=0.00001 rf_relax=0.09290 wp_relax=0.08868 \n",
      "T=1.39s trust=0.00002 rf_relax=0.09280 wp_relax=0.08878 \n",
      "T=1.39s trust=0.00001 rf_relax=0.09290 wp_relax=0.08868 \n",
      "T=1.39s trust=0.00002 rf_relax=0.09280 wp_relax=0.08878 \n",
      "T=1.39s trust=0.00001 rf_relax=0.09290 wp_relax=0.08868 \n",
      "T=1.39s trust=0.00002 rf_relax=0.09280 wp_relax=0.08878 \n",
      "T=1.39s trust=0.00001 rf_relax=0.09290 wp_relax=0.08868 \n",
      "T=1.39s trust=0.00002 rf_relax=0.09280 wp_relax=0.08878 \n",
      "T=1.39s trust=0.00001 rf_relax=0.09290 wp_relax=0.08868 \n",
      "T=1.39s trust=0.00002 rf_relax=0.09280 wp_relax=0.08878 \n",
      "T=1.39s trust=0.00001 rf_relax=0.09290 wp_relax=0.08868 \n",
      "T=1.39s trust=0.00002 rf_relax=0.09280 wp_relax=0.08878 \n",
      "T=1.39s trust=0.00001 rf_relax=0.09290 wp_relax=0.08868 \n",
      "  19.7fps (50.64ms, max: 221.37ms)\n"
     ]
    }
   ],
   "source": [
    "K = 50\n",
    "parameters = dict(K=K, ri=np.zeros(3), vi=np.zeros(3), ai=np.zeros(3),\n",
    "                  rf=np.array([.4,.0,0]), vf=np.zeros(3), af=np.zeros(3),\n",
    "                  wp=np.array([.2,.1,0]), wp_idx=int(K/3),\n",
    "                  gravity=np.array([0.,0.,-9.81]),\n",
    "                  v_fast=.5, v_slow=.25, a_min=5., a_max=12.0, \n",
    "                  theta_max=np.radians(20.0),\n",
    "                  j_max=40, max_iter=30,\n",
    "                  weight_ri=1e3, weight_rf=1e4, weight_wp=1e4,\n",
    "                  weight_obs=1e2, weight_trust=1e-2, n_obs=1)\n",
    "\n",
    "\"\"\" Initialize parameters \"\"\"\n",
    "P = Namespace(**parameters)\n",
    "\n",
    "ri = cp.Parameter(3)\n",
    "vi = cp.Parameter(3)\n",
    "ai = cp.Parameter(3)\n",
    "rf = cp.Parameter(3)\n",
    "vf = cp.Parameter(3)\n",
    "af = cp.Parameter(3)\n",
    "wp = cp.Parameter(3)\n",
    "\n",
    "w_rf = cp.Parameter()\n",
    "w_wp = cp.Parameter()\n",
    "w_trust = cp.Parameter()\n",
    "# w_obs = cp.Parameter()\n",
    "# w_ri = cp.Parameter()\n",
    "\n",
    "ri.value = P.ri\n",
    "vi.value = P.vi\n",
    "ai.value = P.ai\n",
    "rf.value = P.rf\n",
    "vf.value = P.vf\n",
    "af.value = P.af\n",
    "wp.value = P.wp\n",
    "\n",
    "w_rf.value = P.weight_rf\n",
    "w_wp.value = P.weight_wp\n",
    "w_trust.value = P.weight_trust\n",
    "# w_obs.value = P.weight_obs\n",
    "# w_ri.value = P.weight_ri\n",
    "\n",
    "\"\"\" Initialize variables \"\"\"\n",
    "r = cp.Variable((P.K, 3))\n",
    "v = cp.Variable((P.K, 3))\n",
    "a = cp.Variable((P.K, 3))\n",
    "dtau = cp.Variable()\n",
    "\n",
    "r0 = cp.Parameter((P.K, 3))\n",
    "v0 = cp.Parameter((P.K, 3))\n",
    "a0 = cp.Parameter((P.K, 3))\n",
    "tau = cp.Parameter()\n",
    "stc = cp.Parameter(P.K)\n",
    "\n",
    "s = cp.Variable(P.K, nonneg=True)\n",
    "eta = cp.Variable((P.K, P.n_obs), nonneg=True)\n",
    "delta = cp.Variable((P.K, 2), nonneg=True)\n",
    "trust = cp.Variable(nonneg=True)\n",
    "\n",
    "rf_relax = cp.Variable(3)\n",
    "ri_relax = cp.Variable(3)\n",
    "wp_relax = cp.Variable(3)\n",
    "\n",
    "s_ri = cp.Variable()\n",
    "s_rf = cp.Variable()\n",
    "s_wp = cp.Variable()\n",
    "\n",
    "sigma = cp.Variable(nonneg=True)\n",
    "# helper variables to maintain disciplined parametric programming\n",
    "raccel = cp.Variable((P.K-1, 3))\n",
    "Dt_raccel = cp.Variable((P.K-1, 3))\n",
    "\n",
    "f = 0\n",
    "g = dict() \n",
    "\n",
    "\"\"\" Define cost \"\"\"\n",
    "f += cp.norm(s)\n",
    "f += tau + dtau\n",
    "# f += w_ri*s_ri\n",
    "f += w_rf*s_rf\n",
    "f += w_wp*s_wp\n",
    "f += w_trust*trust\n",
    "\n",
    "g[\"relax_rf\"] = s_rf >= cp.norm(rf_relax)**2\n",
    "g[\"relax_wp\"] = s_wp >= cp.norm(wp_relax)**2\n",
    "# g[\"relax_ri\"] = s_ri >= cp.norm(ri_relax)\n",
    "\n",
    "\"\"\" Trust Region \"\"\"\n",
    "g[\"trust_dtau\"] = cp.abs(dtau) <= trust\n",
    "# g[\"trust_pos\"] = cp.abs(r[:,:2] - r0[:,:2]) <= delta\n",
    "# g[\"trust_obs\"] = cp.sum(delta) <= trust\n",
    "\n",
    "\"\"\" Boundary conditions \"\"\"\n",
    "g[\"pos_initial\"] = r[0] == ri #+ ri_relax\n",
    "g[\"pos_final\"] = r[-1] == rf + rf_relax\n",
    "g[\"vel_initial\"] = v[0] == vi\n",
    "g[\"vel_final\"] = v[-1] == vf\n",
    "g[\"waypoint\"] = r[P.wp_idx] == wp + wp_relax\n",
    "g[\"accel_initial\"] = a[0,:2] == ai[:2]\n",
    "g[\"accel_final\"] = a[-1,:2] == af[:2]\n",
    "\n",
    "\"\"\" Dynamics \"\"\"\n",
    "grav = np.tile(P.gravity, (P.K-1, 1)) \n",
    "\n",
    "g[\"helper_raccel\"] = raccel == 1/2*(1/3*(2*a[:-1] + a[1:]) + grav)*tau\n",
    "g[\"helper_Dt_raccel\"] = Dt_raccel == (1/3*(2*a0[:-1] + a0[1:]) + grav)*dtau\n",
    "\n",
    "g[\"dynamics_pos\"] = \\\n",
    "r[1:] == r[:-1] + (v[:-1] + raccel)*tau + v0[:-1]*dtau + Dt_raccel*tau\n",
    "g[\"dynamics_vel\"] = \\\n",
    "v[1:] == v[:-1] + 1/2*(a[:-1] + a[1:] + grav)*tau \\\n",
    "       + 1/2*(a0[:-1] + a0[1:] + grav)*dtau# + v_virtual\n",
    "\n",
    "\"\"\" State constraints \"\"\"\n",
    "g[\"height_max\"] = r[:,2] <= 0\n",
    "g[\"height_min\"] = -r[:,2] >= 0\n",
    "g[\"vertical_vel\"] = cp.abs(v[:,2]) <= 0\n",
    "g[\"vel_max\"] = cp.norm(v, axis=1) <= (1-stc)*P.v_fast + (stc)*P.v_slow\n",
    "g[\"horizontal_jerk_max\"] = cp.norm(a[:-1] - a[1:], 2, axis=1) <= P.j_max*(tau + dtau)\n",
    "#g += [P.cpos_A@@r <= np.tile(P.cpos_b, (K,1))]\n",
    "\n",
    "g[\"lossless\"] = cp.norm(a, axis=1) <= s\n",
    "g[\"bank_angle\"] = np.cos(P.theta_max)*s <= a[:,2]\n",
    "g[\"thrust_min\"] = P.a_min <= s \n",
    "g[\"thrust_max\"] = s <= P.a_max\n",
    "\n",
    "def update(r,v,a,t):\n",
    "    r0.value = r\n",
    "    v0.value = v\n",
    "    a0.value = a\n",
    "    tau.value = t\n",
    "    stc.value = np.logical_and(r0[:,0].value <=.30, r0[:,0].value >=.25)*1.\n",
    "    \n",
    "prob = cp.Problem(cp.Minimize(f), list(g.values()))\n",
    "zeros = np.zeros((P.K,3))  \n",
    "update(zeros, zeros, zeros, 0.5)\n",
    "log_time = [time.time()]\n",
    "for _ in range(P.max_iter):\n",
    "    log_time.append(time.time())\n",
    "    out = prob.solve(solver=\"ECOS\", warm_start=True)\n",
    "    if out == np.inf:\n",
    "        print(\"FAILED\")\n",
    "        break\n",
    "    print(f\"T={P.K*tau.value:.2f}s \"\n",
    "          f\"trust={trust.value:.5f} \"\\\n",
    "          f\"rf_relax={la.norm(rf_relax.value):.5f} \"\n",
    "          f\"wp_relax={la.norm(wp_relax.value):.5f} \")\n",
    "    if np.isclose(trust.value,0):\n",
    "        break\n",
    "    \n",
    "    update(r.value, v.value, a.value, tau.value + dtau.value)\n",
    "    \n",
    "time_avg = np.diff(log_time).mean()*1000\n",
    "time_max = np.diff(log_time).max()*1000\n",
    "time_fps = 1/np.diff(log_time).mean()\n",
    "print(f\"  {time_fps:.1f}fps ({time_avg:.2f}ms, max: {time_max:.2f}ms)\")\n"
   ]
  },
  {
   "cell_type": "code",
   "execution_count": 3,
   "metadata": {},
   "outputs": [],
   "source": [
    "def plot_duals(ax, t, d, **kwargs):\n",
    "    return ax.contourf([t, t],[[1]*len(t),[-1]*len(t)],[d]*2, antialiased=False, **kwargs)"
   ]
  },
  {
   "cell_type": "code",
   "execution_count": 4,
   "metadata": {},
   "outputs": [
    {
     "data": {
      "image/png": "[encoded data removed]",
      "text/plain": [
       "<Figure size 270x180 with 3 Axes>"
      ]
     },
     "metadata": {
      "needs_background": "light"
     },
     "output_type": "display_data"
    }
   ],
   "source": [
    "from copy import copy\n",
    "from matplotlib import ticker, cm\n",
    "def plot_vel(ax):\n",
    "    ax.set(ylabel=\"Velocity\")\n",
    "    ax.axhline(y=P.v_fast, color='k', ls='--')\n",
    "    ax.axhline(y=P.v_slow, color='k', ls='--')\n",
    "    ax.plot(t, la.norm(v.value, axis=1),'k')#, where=\"post\")\n",
    "    #ax.step(t, la.norm(v.value, axis=1), where=\"post\")\n",
    "    palette = copy(plt.get_cmap('Oranges'))\n",
    "    ax.set(ylim=[0, P.v_fast*1.1])\n",
    "    return plot_duals(ax, t, g['vel_max'].dual_value, cmap='Oranges', locator=ticker.LogLocator())\n",
    "\n",
    "def plot_angle(ax):\n",
    "    ax.axhline(y=P.theta_max, color='gray', ls='--')\n",
    "    bank_angle = np.arccos(a.value.dot(-P.gravity)/(la.norm(a.value,axis=1)*la.norm(P.gravity)))\n",
    "    ax.step(t, bank_angle, 'k', where='post')\n",
    "    ax.set(ylim=[0, P.theta_max*1.1])\n",
    "    ax.set(ylabel='Bank angle',yticks=[0,.1,.2,.3])\n",
    "    return plot_duals(ax, t, g['bank_angle'].dual_value, cmap='Oranges', locator=ticker.LogLocator())\n",
    "    \n",
    "\n",
    "t = np.linspace(0,P.K*tau.value,P.K) \n",
    "fig, axs = plt.subplots(nrows=2, figsize=(1.5*2.5,2.5))\n",
    "cs = plot_vel(axs[0])\n",
    "axs[0].set(xticklabels=[])\n",
    "plot_angle(axs[1])\n",
    "plt.colorbar(cs,ax=axs.ravel().tolist()).set_label('Dual value')\n",
    "axs[1].set(xlabel='Time (s)')\n",
    "plt.savefig('figs/vel-angle.pdf', bbox_inches='tight')"
   ]
  },
  {
   "cell_type": "code",
   "execution_count": 15,
   "metadata": {},
   "outputs": [
    {
     "data": {
      "image/png": "[encoded data removed]",
      "text/plain": [
       "<Figure size 432x288 with 1 Axes>"
      ]
     },
     "metadata": {
      "needs_background": "light"
     },
     "output_type": "display_data"
    },
    {
     "data": {
      "image/png": "[encoded data removed]",
      "text/plain": [
       "<Figure size 432x288 with 1 Axes>"
      ]
     },
     "metadata": {
      "needs_background": "light"
     },
     "output_type": "display_data"
    },
    {
     "data": {
      "image/png": "[encoded data removed]",
      "text/plain": [
       "<Figure size 432x288 with 1 Axes>"
      ]
     },
     "metadata": {
      "needs_background": "light"
     },
     "output_type": "display_data"
    },
    {
     "data": {
      "image/png": "[encoded data removed]",
      "text/plain": [
       "<Figure size 432x288 with 1 Axes>"
      ]
     },
     "metadata": {
      "needs_background": "light"
     },
     "output_type": "display_data"
    },
    {
     "data": {
      "image/png": "[encoded data removed]",
      "text/plain": [
       "<Figure size 432x288 with 1 Axes>"
      ]
     },
     "metadata": {
      "needs_background": "light"
     },
     "output_type": "display_data"
    }
   ],
   "source": [
    "plt.figure()\n",
    "plt.title(\"Position\")\n",
    "plt.plot(*r.value[:,:2].T, 'o-')\n",
    "plt.plot(*ri.value[:2], 'o', fillstyle='none', ms=10)\n",
    "plt.plot(*wp.value[:2], 'o', fillstyle='none', ms=10)\n",
    "plt.plot(*rf.value[:2], 'o', fillstyle='none', ms=10)\n",
    "plt.gca().set_aspect('equal')\n",
    "plt.grid()\n",
    "#plt.plot(r.value[:,2], 'o-')\n",
    "plt.figure()\n",
    "plt.title(\"Velocity\")\n",
    "plt.gca().axhline(y=P.v_fast, color='k', ls='--')\n",
    "plt.gca().axhline(y=P.v_slow, color='k', ls='--')\n",
    "plt.step(t, la.norm(v.value, axis=1), where=\"post\")\n",
    "# plt.plot(t, v.value, '-.')\n",
    "plt.figure()\n",
    "plt.title(\"Accel\")\n",
    "plt.gca().axhline(y=P.a_min, color='k', ls='--')\n",
    "plt.gca().axhline(y=P.a_max, color='k', ls='--')\n",
    "plt.step(t, la.norm(a.value, axis=1), where=\"post\")\n",
    "plt.step(t, a.value, '-.', where=\"post\")\n",
    "plt.step(t, s.value, '-.', where=\"post\")\n",
    "plt.figure()\n",
    "plt.title(\"Jerk\")\n",
    "plt.gca().axhline(y=P.j_max, color='k', ls='--')\n",
    "plt.step(t[:-1], la.norm(np.diff(a.value, axis=0), axis=1)/tau.value)\n",
    "#plt.plot(t, a.value, '-.')\n",
    "plt.figure()\n",
    "plt.title(\"Angle\")\n",
    "plt.gca().axhline(y=P.theta_max, color='k', ls='--')\n",
    "bank_angle = np.arccos(a.value.dot(-P.gravity)/(la.norm(a.value,axis=1)*la.norm(P.gravity)))\n",
    "plt.step(t, bank_angle)\n",
    "plt.show()"
   ]
  },
  {
   "cell_type": "code",
   "execution_count": 7,
   "metadata": {},
   "outputs": [
    {
     "data": {
      "text/plain": [
       "array([467.93463069, 233.78253861,  94.14632723])"
      ]
     },
     "execution_count": 7,
     "metadata": {},
     "output_type": "execute_result"
    }
   ],
   "source": [
    "g[\"vel_initial\"].dual_value"
   ]
  },
  {
   "cell_type": "code",
   "execution_count": 8,
   "metadata": {},
   "outputs": [
    {
     "data": {
      "text/plain": [
       "array([ 5.4862987 , -2.52407403, 20.87173452])"
      ]
     },
     "execution_count": 8,
     "metadata": {},
     "output_type": "execute_result"
    }
   ],
   "source": [
    "g[\"vel_final\"].dual_value"
   ]
  },
  {
   "cell_type": "code",
   "execution_count": 9,
   "metadata": {},
   "outputs": [
    {
     "data": {
      "text/plain": [
       "[<matplotlib.lines.Line2D at 0x1207d50d0>]"
      ]
     },
     "execution_count": 9,
     "metadata": {},
     "output_type": "execute_result"
    },
    {
     "data": {
      "image/png": "[encoded data removed]",
      "text/plain": [
       "<Figure size 432x288 with 1 Axes>"
      ]
     },
     "metadata": {
      "needs_background": "light"
     },
     "output_type": "display_data"
    }
   ],
   "source": [
    "plt.plot(g[\"vel_max\"].dual_value)"
   ]
  },
  {
   "cell_type": "code",
   "execution_count": 10,
   "metadata": {},
   "outputs": [
    {
     "data": {
      "text/plain": [
       "[<matplotlib.lines.Line2D at 0x1205f1970>]"
      ]
     },
     "execution_count": 10,
     "metadata": {},
     "output_type": "execute_result"
    },
    {
     "data": {
      "image/png": "[encoded data removed]",
      "text/plain": [
       "<Figure size 432x288 with 1 Axes>"
      ]
     },
     "metadata": {
      "needs_background": "light"
     },
     "output_type": "display_data"
    }
   ],
   "source": [
    "plt.plot(g[\"horizontal_jerk_max\"].dual_value)"
   ]
  },
  {
   "cell_type": "code",
   "execution_count": 11,
   "metadata": {},
   "outputs": [
    {
     "data": {
      "text/plain": [
       "[<matplotlib.lines.Line2D at 0x120876dc0>]"
      ]
     },
     "execution_count": 11,
     "metadata": {},
     "output_type": "execute_result"
    },
    {
     "data": {
      "image/png": "[encoded data removed]",
      "text/plain": [
       "<Figure size 432x288 with 1 Axes>"
      ]
     },
     "metadata": {
      "needs_background": "light"
     },
     "output_type": "display_data"
    }
   ],
   "source": [
    "plt.plot(la.norm(g[\"dynamics_pos\"].dual_value,axis=1))"
   ]
  }
 ],
 "metadata": {
  "kernelspec": {
   "display_name": "optcontrol",
   "language": "python",
   "name": "optcontrol"
  },
  "language_info": {
   "codemirror_mode": {
    "name": "ipython",
    "version": 3
   },
   "file_extension": ".py",
   "mimetype": "text/x-python",
   "name": "python",
   "nbconvert_exporter": "python",
   "pygments_lexer": "ipython3",
   "version": "3.8.3"
  }
 },
 "nbformat": 4,
 "nbformat_minor": 2
}
