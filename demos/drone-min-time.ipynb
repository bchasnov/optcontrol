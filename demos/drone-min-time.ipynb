{
 "cells": [
  {
   "cell_type": "code",
   "execution_count": 1,
   "metadata": {},
   "outputs": [],
   "source": [
    "%load_ext autoreload\n",
    "%autoreload 2\n",
    "\n",
    "import cvxpy as cp\n",
    "import numpy as np\n",
    "import numpy.linalg as la\n",
    "from argparse import Namespace\n",
    "import matplotlib.pyplot as plt\n",
    "import time"
   ]
  },
  {
   "cell_type": "code",
   "execution_count": 39,
   "metadata": {},
   "outputs": [
    {
     "name": "stdout",
     "output_type": "stream",
     "text": [
      "T=25.00s trust=0.13968 rf_relax=4.87919 wp_relax=1.59320 \n",
      "T=18.02s trust=0.15813 rf_relax=0.00000 wp_relax=0.00000 \n",
      "T=10.11s trust=0.09530 rf_relax=0.00000 wp_relax=0.00000 \n",
      "T=5.35s trust=0.05199 rf_relax=0.00000 wp_relax=0.00000 \n",
      "T=2.75s trust=0.02711 rf_relax=0.00000 wp_relax=0.00000 \n",
      "T=1.39s trust=0.00660 rf_relax=0.04886 wp_relax=0.04181 \n",
      "T=1.06s trust=0.00269 rf_relax=0.06815 wp_relax=0.03952 \n",
      "T=1.20s trust=0.00015 rf_relax=0.06814 wp_relax=0.04015 \n",
      "T=1.19s trust=0.00000 rf_relax=0.06815 wp_relax=0.04013 \n",
      "T=1.19s trust=0.00000 rf_relax=0.06815 wp_relax=0.04014 \n",
      "T=1.19s trust=0.00000 rf_relax=0.06814 wp_relax=0.04015 \n",
      "T=1.19s trust=0.00000 rf_relax=0.06812 wp_relax=0.04017 \n",
      "T=1.19s trust=0.00000 rf_relax=0.06811 wp_relax=0.04018 \n",
      "T=1.19s trust=0.00000 rf_relax=0.06810 wp_relax=0.04019 \n",
      "T=1.19s trust=0.00000 rf_relax=0.06809 wp_relax=0.04020 \n",
      "T=1.19s trust=0.00000 rf_relax=0.06808 wp_relax=0.04021 \n",
      "T=1.19s trust=0.00000 rf_relax=0.06808 wp_relax=0.04022 \n",
      "T=1.19s trust=0.00000 rf_relax=0.06808 wp_relax=0.04022 \n",
      "T=1.19s trust=0.00000 rf_relax=0.06807 wp_relax=0.04022 \n",
      "T=1.19s trust=0.00000 rf_relax=0.06807 wp_relax=0.04022 \n",
      "T=1.19s trust=0.00000 rf_relax=0.06806 wp_relax=0.04022 \n",
      "T=1.19s trust=0.00000 rf_relax=0.06806 wp_relax=0.04021 \n",
      "T=1.19s trust=0.00000 rf_relax=0.06806 wp_relax=0.04021 \n",
      "T=1.19s trust=0.00000 rf_relax=0.06806 wp_relax=0.04020 \n",
      "T=1.19s trust=0.00001 rf_relax=0.06812 wp_relax=0.04010 \n",
      "T=1.19s trust=0.00000 rf_relax=0.06814 wp_relax=0.04007 \n",
      "T=1.19s trust=0.00000 rf_relax=0.06817 wp_relax=0.04003 \n",
      "T=1.19s trust=0.00001 rf_relax=0.06820 wp_relax=0.03999 \n",
      "T=1.19s trust=0.00001 rf_relax=0.06824 wp_relax=0.03993 \n",
      "T=1.19s trust=0.00001 rf_relax=0.06829 wp_relax=0.03986 \n",
      "  19.5fps (51.18ms, max: 184.70ms)\n"
     ]
    }
   ],
   "source": [
    "K = 50\n",
    "parameters = dict(K=K, ri=np.zeros(3), vi=np.zeros(3), ai=np.zeros(3),\n",
    "                  rf=np.array([.4,.0,0]), vf=np.zeros(3), af=np.zeros(3),\n",
    "                  wp=np.array([.2,.1,0]), wp_idx=int(K/3),\n",
    "                  gravity=np.array([0.,0.,-9.81]),\n",
    "                  v_max=.8, a_min=5., a_max=12.0, \n",
    "                  theta_max=np.radians(45.0),\n",
    "                  j_max=40, max_iter=30,\n",
    "                  weight_ri=1e3, weight_rf=1e4, weight_wp=1e4,\n",
    "                  weight_obs=1e2, weight_trust=1e-2, n_obs=1)\n",
    "\n",
    "\"\"\" Initialize parameters \"\"\"\n",
    "P = Namespace(**parameters)\n",
    "\n",
    "ri = cp.Parameter(3)\n",
    "vi = cp.Parameter(3)\n",
    "ai = cp.Parameter(3)\n",
    "rf = cp.Parameter(3)\n",
    "vf = cp.Parameter(3)\n",
    "af = cp.Parameter(3)\n",
    "wp = cp.Parameter(3)\n",
    "\n",
    "w_rf = cp.Parameter()\n",
    "w_wp = cp.Parameter()\n",
    "w_trust = cp.Parameter()\n",
    "# w_obs = cp.Parameter()\n",
    "# w_ri = cp.Parameter()\n",
    "\n",
    "ri.value = P.ri\n",
    "vi.value = P.vi\n",
    "ai.value = P.ai\n",
    "rf.value = P.rf\n",
    "vf.value = P.vf\n",
    "af.value = P.af\n",
    "wp.value = P.wp\n",
    "\n",
    "w_rf.value = P.weight_rf\n",
    "w_wp.value = P.weight_wp\n",
    "w_trust.value = P.weight_trust\n",
    "# w_obs.value = P.weight_obs\n",
    "# w_ri.value = P.weight_ri\n",
    "\n",
    "\"\"\" Initialize variables \"\"\"\n",
    "r = cp.Variable((P.K, 3))\n",
    "v = cp.Variable((P.K, 3))\n",
    "a = cp.Variable((P.K, 3))\n",
    "dtau = cp.Variable()\n",
    "\n",
    "r0 = cp.Parameter((P.K, 3))\n",
    "v0 = cp.Parameter((P.K, 3))\n",
    "a0 = cp.Parameter((P.K, 3))\n",
    "tau = cp.Parameter()\n",
    "\n",
    "s = cp.Variable(P.K, nonneg=True)\n",
    "eta = cp.Variable((P.K, P.n_obs), nonneg=True)\n",
    "delta = cp.Variable((P.K, 2), nonneg=True)\n",
    "trust = cp.Variable(nonneg=True)\n",
    "\n",
    "rf_relax = cp.Variable(3)\n",
    "ri_relax = cp.Variable(3)\n",
    "wp_relax = cp.Variable(3)\n",
    "\n",
    "s_ri = cp.Variable()\n",
    "s_rf = cp.Variable()\n",
    "s_wp = cp.Variable()\n",
    "\n",
    "sigma = cp.Variable(nonneg=True)\n",
    "# helper variables to maintain disciplined parametric programming\n",
    "raccel = cp.Variable((P.K-1, 3))\n",
    "Dt_raccel = cp.Variable((P.K-1, 3))\n",
    "\n",
    "f = 0\n",
    "g = dict() \n",
    "\n",
    "\"\"\" Define cost \"\"\"\n",
    "f += cp.norm(s)\n",
    "f += tau + dtau\n",
    "# f += w_ri*s_ri\n",
    "f += w_rf*s_rf\n",
    "f += w_wp*s_wp\n",
    "f += w_trust*trust\n",
    "\n",
    "g[\"relax_rf\"] = s_rf >= cp.norm(rf_relax)**2\n",
    "g[\"relax_wp\"] = s_wp >= cp.norm(wp_relax)**2\n",
    "# g[\"relax_ri\"] = s_ri >= cp.norm(ri_relax)\n",
    "\n",
    "\"\"\" Trust Region \"\"\"\n",
    "g[\"trust_dtau\"] = cp.abs(dtau) <= trust\n",
    "# g[\"trust_pos\"] = cp.abs(r[:,:2] - r0[:,:2]) <= delta\n",
    "# g[\"trust_obs\"] = cp.sum(delta) <= trust\n",
    "\n",
    "\"\"\" Boundary conditions \"\"\"\n",
    "g[\"pos_initial\"] = r[0] == ri #+ ri_relax\n",
    "g[\"pos_final\"] = r[-1] == rf + rf_relax\n",
    "g[\"vel_initial\"] = v[0] == vi\n",
    "g[\"vel_final\"] = v[-1] == vf\n",
    "g[\"waypoint\"] = r[P.wp_idx] == wp + wp_relax\n",
    "g[\"accel_initial\"] = a[0,:2] == ai[:2]\n",
    "g[\"accel_final\"] = a[-1,:2] == af[:2]\n",
    "\n",
    "\"\"\" Dynamics \"\"\"\n",
    "grav = np.tile(P.gravity, (P.K-1, 1)) \n",
    "\n",
    "g[\"helper_raccel\"] = raccel == 1/2*(1/3*(2*a[:-1] + a[1:]) + grav)*tau\n",
    "g[\"helper_Dt_raccel\"] = Dt_raccel == (1/3*(2*a0[:-1] + a0[1:]) + grav)*dtau\n",
    "\n",
    "g[\"dynamics_pos\"] = \\\n",
    "r[1:] == r[:-1] + (v[:-1] + raccel)*tau + v0[:-1]*dtau + Dt_raccel*tau\n",
    "g[\"dynamics_vel\"] = \\\n",
    "v[1:] == v[:-1] + 1/2*(a[:-1] + a[1:] + grav)*tau \\\n",
    "       + 1/2*(a0[:-1] + a0[1:] + grav)*dtau# + v_virtual\n",
    "\n",
    "\"\"\" State constraints \"\"\"\n",
    "g[\"height_max\"] = r[:,2] <= 0\n",
    "g[\"height_min\"] = -r[:,2] >= 0\n",
    "g[\"vertical_vel\"] = cp.abs(v[:,2]) <= 0\n",
    "g[\"vel_max\"] = cp.norm(v, axis=1) <= P.v_max\n",
    "g[\"horizontal_jerk_max\"] = cp.norm(a[:-1] - a[1:], 2, axis=1) <= P.j_max*(tau + dtau)\n",
    "#g += [P.cpos_A@@r <= np.tile(P.cpos_b, (K,1))]\n",
    "\n",
    "g[\"lossless\"] = cp.norm(a, axis=1) <= s\n",
    "g[\"bank_angle\"] = np.cos(P.theta_max)*s <= a[:,2]\n",
    "g[\"thrust_min\"] = P.a_min <= s \n",
    "g[\"thrust_max\"] = s <= P.a_max\n",
    "\n",
    "def update(r,v,a,t):\n",
    "    r0.value = r\n",
    "    v0.value = v\n",
    "    a0.value = a\n",
    "    tau.value = t\n",
    "    \n",
    "prob = cp.Problem(cp.Minimize(f), list(g.values()))\n",
    "zeros = np.zeros((P.K,3))  \n",
    "update(zeros, zeros, zeros, 0.5)\n",
    "log_time = [time.time()]\n",
    "for _ in range(P.max_iter):\n",
    "    log_time.append(time.time())\n",
    "    out = prob.solve(solver=\"ECOS\", warm_start=True)\n",
    "    if out == np.inf:\n",
    "        print(\"FAILED\")\n",
    "        break\n",
    "    print(f\"T={P.K*tau.value:.2f}s \"\n",
    "          f\"trust={trust.value:.5f} \"\\\n",
    "          f\"rf_relax={la.norm(rf_relax.value):.5f} \"\n",
    "          f\"wp_relax={la.norm(wp_relax.value):.5f} \")\n",
    "    if np.isclose(trust.value,0):\n",
    "        break\n",
    "#     P.rf[1] += _/1000\n",
    "    \n",
    "    update(r.value, v.value, a.value, tau.value + dtau.value)\n",
    "    \n",
    "time_avg = np.diff(log_time).mean()*1000\n",
    "time_max = np.diff(log_time).max()*1000\n",
    "time_fps = 1/np.diff(log_time).mean()\n",
    "print(f\"  {time_fps:.1f}fps ({time_avg:.2f}ms, max: {time_max:.2f}ms)\")\n"
   ]
  },
  {
   "cell_type": "code",
   "execution_count": 40,
   "metadata": {},
   "outputs": [
    {
     "data": {
      "text/plain": [
       "array([4.91224935, 4.98968872, 5.26937663, 5.67179452, 6.21890139,\n",
       "       6.83474777, 6.946972  , 6.84030968, 6.22379459, 5.67581863,\n",
       "       5.27227114, 4.99121935, 4.91226497, 4.91054499, 4.99999993,\n",
       "       5.00000001, 5.11130658, 5.15701092, 5.14506964, 5.10765004,\n",
       "       5.10029301, 5.06727262, 5.0645898 , 5.03609435, 5.03815274,\n",
       "       5.01428653, 5.02112813, 5.00197252, 5.01361198, 5.00000055,\n",
       "       5.01564727, 5.00605307, 5.02722221, 5.02242122, 5.04827096,\n",
       "       5.04823835, 5.07867596, 5.08335879, 5.11827052, 5.12759175,\n",
       "       5.1668434 , 5.18070379, 5.22414412, 5.24242498, 5.28988895,\n",
       "       5.31245498, 5.36376693, 5.25578835, 5.00392475, 4.89774695])"
      ]
     },
     "execution_count": 40,
     "metadata": {},
     "output_type": "execute_result"
    }
   ],
   "source": [
    "la.norm(a.value, axis=1)"
   ]
  },
  {
   "cell_type": "code",
   "execution_count": 41,
   "metadata": {},
   "outputs": [
    {
     "data": {
      "text/plain": [
       "array([5.00000001, 5.00000001, 5.26937664, 5.67179453, 6.2189014 ,\n",
       "       6.83474777, 6.946972  , 6.84030968, 6.2237946 , 5.67581864,\n",
       "       5.27227115, 5.00000001, 5.00000001, 5.00000001, 5.00000001,\n",
       "       5.00000003, 5.11130659, 5.15701093, 5.14506966, 5.10765006,\n",
       "       5.10029303, 5.06727263, 5.06458981, 5.03609437, 5.03815275,\n",
       "       5.01428654, 5.02112814, 5.00197253, 5.013612  , 5.00000056,\n",
       "       5.01564728, 5.00605308, 5.02722222, 5.02242123, 5.04827097,\n",
       "       5.04823836, 5.07867597, 5.0833588 , 5.11827053, 5.12759176,\n",
       "       5.16684341, 5.1807038 , 5.22414413, 5.24242499, 5.28988896,\n",
       "       5.31245499, 5.36376694, 5.25578836, 5.00392476, 5.00000001])"
      ]
     },
     "execution_count": 41,
     "metadata": {},
     "output_type": "execute_result"
    }
   ],
   "source": [
    "s.value"
   ]
  },
  {
   "cell_type": "code",
   "execution_count": 42,
   "metadata": {},
   "outputs": [
    {
     "data": {
      "text/plain": [
       "[<matplotlib.lines.Line2D at 0x122189820>]"
      ]
     },
     "execution_count": 42,
     "metadata": {},
     "output_type": "execute_result"
    },
    {
     "data": {
      "image/png": "[encoded data removed]",
      "text/plain": [
       "<Figure size 432x288 with 1 Axes>"
      ]
     },
     "metadata": {
      "needs_background": "light"
     },
     "output_type": "display_data"
    }
   ],
   "source": [
    "plt.plot(g[\"lossless\"].dual_value)"
   ]
  },
  {
   "cell_type": "code",
   "execution_count": 43,
   "metadata": {},
   "outputs": [
    {
     "data": {
      "image/png": "[encoded data removed]",
      "text/plain": [
       "<Figure size 432x288 with 1 Axes>"
      ]
     },
     "metadata": {
      "needs_background": "light"
     },
     "output_type": "display_data"
    },
    {
     "data": {
      "image/png": "[encoded data removed]",
      "text/plain": [
       "<Figure size 432x288 with 1 Axes>"
      ]
     },
     "metadata": {
      "needs_background": "light"
     },
     "output_type": "display_data"
    },
    {
     "data": {
      "image/png": "[encoded data removed]",
      "text/plain": [
       "<Figure size 432x288 with 1 Axes>"
      ]
     },
     "metadata": {
      "needs_background": "light"
     },
     "output_type": "display_data"
    },
    {
     "data": {
      "image/png": "[encoded data removed]",
      "text/plain": [
       "<Figure size 432x288 with 1 Axes>"
      ]
     },
     "metadata": {
      "needs_background": "light"
     },
     "output_type": "display_data"
    },
    {
     "data": {
      "image/png": "[encoded data removed]",
      "text/plain": [
       "<Figure size 432x288 with 1 Axes>"
      ]
     },
     "metadata": {
      "needs_background": "light"
     },
     "output_type": "display_data"
    }
   ],
   "source": [
    "t = np.linspace(0,P.K*tau.value,P.K) \n",
    "plt.figure()\n",
    "plt.title(\"Position\")\n",
    "plt.plot(*r.value[:,:2].T, 'o-')\n",
    "plt.plot(*ri.value[:2], 'o', fillstyle='none', ms=10)\n",
    "plt.plot(*wp.value[:2], 'o', fillstyle='none', ms=10)\n",
    "plt.plot(*rf.value[:2], 'o', fillstyle='none', ms=10)\n",
    "plt.gca().set_aspect('equal')\n",
    "plt.grid()\n",
    "#plt.plot(r.value[:,2], 'o-')\n",
    "plt.figure()\n",
    "plt.title(\"Velocity\")\n",
    "plt.gca().axhline(y=P.v_max, color='k', ls='--')\n",
    "plt.step(t, la.norm(v.value, axis=1), where=\"post\")\n",
    "# plt.plot(t, v.value, '-.')\n",
    "plt.figure()\n",
    "plt.title(\"Accel\")\n",
    "plt.gca().axhline(y=P.a_min, color='k', ls='--')\n",
    "plt.gca().axhline(y=P.a_max, color='k', ls='--')\n",
    "plt.step(t, la.norm(a.value, axis=1), where=\"post\")\n",
    "plt.step(t, a.value, '-.', where=\"post\")\n",
    "plt.step(t, s.value, '-.', where=\"post\")\n",
    "plt.figure()\n",
    "plt.title(\"Jerk\")\n",
    "plt.gca().axhline(y=P.j_max, color='k', ls='--')\n",
    "plt.step(t[:-1], la.norm(np.diff(a.value, axis=0), axis=1)/tau.value)\n",
    "#plt.plot(t, a.value, '-.')\n",
    "plt.figure()\n",
    "plt.title(\"Angle\")\n",
    "plt.gca().axhline(y=P.theta_max, color='k', ls='--')\n",
    "bank_angle = np.arccos(a.value.dot(-P.gravity)/(la.norm(a.value,axis=1)*la.norm(P.gravity)))\n",
    "plt.step(t, bank_angle)\n",
    "plt.show()"
   ]
  },
  {
   "cell_type": "code",
   "execution_count": 7,
   "metadata": {},
   "outputs": [
    {
     "data": {
      "text/plain": [
       "array([132.45715016,  67.80700267,  26.41207431])"
      ]
     },
     "execution_count": 7,
     "metadata": {},
     "output_type": "execute_result"
    }
   ],
   "source": [
    "g[\"vel_initial\"].dual_value"
   ]
  },
  {
   "cell_type": "code",
   "execution_count": 8,
   "metadata": {},
   "outputs": [
    {
     "data": {
      "text/plain": [
       "array([ 0.30480827, -1.98241883, 10.38670988])"
      ]
     },
     "execution_count": 8,
     "metadata": {},
     "output_type": "execute_result"
    }
   ],
   "source": [
    "g[\"vel_final\"].dual_value"
   ]
  },
  {
   "cell_type": "code",
   "execution_count": 9,
   "metadata": {},
   "outputs": [
    {
     "data": {
      "text/plain": [
       "[<matplotlib.lines.Line2D at 0x124cd1730>]"
      ]
     },
     "execution_count": 9,
     "metadata": {},
     "output_type": "execute_result"
    },
    {
     "data": {
      "image/png": "[encoded data removed]",
      "text/plain": [
       "<Figure size 432x288 with 1 Axes>"
      ]
     },
     "metadata": {
      "needs_background": "light"
     },
     "output_type": "display_data"
    }
   ],
   "source": [
    "plt.plot(g[\"vel_max\"].dual_value)"
   ]
  },
  {
   "cell_type": "code",
   "execution_count": 10,
   "metadata": {},
   "outputs": [
    {
     "data": {
      "text/plain": [
       "[<matplotlib.lines.Line2D at 0x124e4afa0>]"
      ]
     },
     "execution_count": 10,
     "metadata": {},
     "output_type": "execute_result"
    },
    {
     "data": {
      "image/png": "[encoded data removed]",
      "text/plain": [
       "<Figure size 432x288 with 1 Axes>"
      ]
     },
     "metadata": {
      "needs_background": "light"
     },
     "output_type": "display_data"
    }
   ],
   "source": [
    "plt.plot(g[\"horizontal_jerk_max\"].dual_value)"
   ]
  },
  {
   "cell_type": "code",
   "execution_count": 11,
   "metadata": {},
   "outputs": [
    {
     "data": {
      "text/plain": [
       "[<matplotlib.lines.Line2D at 0x124e7cdc0>]"
      ]
     },
     "execution_count": 11,
     "metadata": {},
     "output_type": "execute_result"
    },
    {
     "data": {
      "image/png": "[encoded data removed]",
      "text/plain": [
       "<Figure size 432x288 with 1 Axes>"
      ]
     },
     "metadata": {
      "needs_background": "light"
     },
     "output_type": "display_data"
    }
   ],
   "source": [
    "plt.plot(la.norm(g[\"dynamics_pos\"].dual_value,axis=1))"
   ]
  },
  {
   "cell_type": "code",
   "execution_count": 12,
   "metadata": {},
   "outputs": [
    {
     "data": {
      "text/plain": [
       "[<matplotlib.lines.Line2D at 0x124b5c580>]"
      ]
     },
     "execution_count": 12,
     "metadata": {},
     "output_type": "execute_result"
    },
    {
     "data": {
      "image/png": "[encoded data removed]",
      "text/plain": [
       "<Figure size 432x288 with 1 Axes>"
      ]
     },
     "metadata": {
      "needs_background": "light"
     },
     "output_type": "display_data"
    }
   ],
   "source": [
    "plt.plot(la.norm(g[\"dynamics_vel\"].dual_value,axis=1))"
   ]
  },
  {
   "cell_type": "code",
   "execution_count": 13,
   "metadata": {},
   "outputs": [
    {
     "ename": "DCPError",
     "evalue": "Problem does not follow DCP rules. Specifically:\nThe following constraints are not DCP:\nvar755 @ var756 == 0.0 , because the following subexpressions are not:\n|--  var755 @ var756",
     "output_type": "error",
     "traceback": [
      "\u001b[0;31m---------------------------------------------------------------------------\u001b[0m",
      "\u001b[0;31mDCPError\u001b[0m                                  Traceback (most recent call last)",
      "\u001b[0;32m<ipython-input-13-91b07437acfe>\u001b[0m in \u001b[0;36m<module>\u001b[0;34m\u001b[0m\n\u001b[1;32m      2\u001b[0m \u001b[0mzz\u001b[0m \u001b[0;34m=\u001b[0m \u001b[0mcp\u001b[0m\u001b[0;34m.\u001b[0m\u001b[0mVariable\u001b[0m\u001b[0;34m(\u001b[0m\u001b[0;34m)\u001b[0m\u001b[0;34m\u001b[0m\u001b[0;34m\u001b[0m\u001b[0m\n\u001b[1;32m      3\u001b[0m \u001b[0;34m\u001b[0m\u001b[0m\n\u001b[0;32m----> 4\u001b[0;31m \u001b[0mcp\u001b[0m\u001b[0;34m.\u001b[0m\u001b[0mProblem\u001b[0m\u001b[0;34m(\u001b[0m\u001b[0mcp\u001b[0m\u001b[0;34m.\u001b[0m\u001b[0mMinimize\u001b[0m\u001b[0;34m(\u001b[0m\u001b[0mz\u001b[0m\u001b[0;34m+\u001b[0m\u001b[0mzz\u001b[0m\u001b[0;34m)\u001b[0m\u001b[0;34m,\u001b[0m \u001b[0;34m[\u001b[0m\u001b[0mz\u001b[0m\u001b[0;34m*\u001b[0m\u001b[0mzz\u001b[0m\u001b[0;34m==\u001b[0m\u001b[0;36m0\u001b[0m\u001b[0;34m]\u001b[0m\u001b[0;34m)\u001b[0m\u001b[0;34m.\u001b[0m\u001b[0msolve\u001b[0m\u001b[0;34m(\u001b[0m\u001b[0;34m)\u001b[0m\u001b[0;34m\u001b[0m\u001b[0;34m\u001b[0m\u001b[0m\n\u001b[0m",
      "\u001b[0;32m~/Library/Caches/pypoetry/virtualenvs/optcontrol-_l3Ry8ph-py3.8/lib/python3.8/site-packages/cvxpy/problems/problem.py\u001b[0m in \u001b[0;36msolve\u001b[0;34m(self, *args, **kwargs)\u001b[0m\n\u001b[1;32m    393\u001b[0m         \u001b[0;32melse\u001b[0m\u001b[0;34m:\u001b[0m\u001b[0;34m\u001b[0m\u001b[0;34m\u001b[0m\u001b[0m\n\u001b[1;32m    394\u001b[0m             \u001b[0msolve_func\u001b[0m \u001b[0;34m=\u001b[0m \u001b[0mProblem\u001b[0m\u001b[0;34m.\u001b[0m\u001b[0m_solve\u001b[0m\u001b[0;34m\u001b[0m\u001b[0;34m\u001b[0m\u001b[0m\n\u001b[0;32m--> 395\u001b[0;31m         \u001b[0;32mreturn\u001b[0m \u001b[0msolve_func\u001b[0m\u001b[0;34m(\u001b[0m\u001b[0mself\u001b[0m\u001b[0;34m,\u001b[0m \u001b[0;34m*\u001b[0m\u001b[0margs\u001b[0m\u001b[0;34m,\u001b[0m \u001b[0;34m**\u001b[0m\u001b[0mkwargs\u001b[0m\u001b[0;34m)\u001b[0m\u001b[0;34m\u001b[0m\u001b[0;34m\u001b[0m\u001b[0m\n\u001b[0m\u001b[1;32m    396\u001b[0m \u001b[0;34m\u001b[0m\u001b[0m\n\u001b[1;32m    397\u001b[0m     \u001b[0;34m@\u001b[0m\u001b[0mclassmethod\u001b[0m\u001b[0;34m\u001b[0m\u001b[0;34m\u001b[0m\u001b[0m\n",
      "\u001b[0;32m~/Library/Caches/pypoetry/virtualenvs/optcontrol-_l3Ry8ph-py3.8/lib/python3.8/site-packages/cvxpy/problems/problem.py\u001b[0m in \u001b[0;36m_solve\u001b[0;34m(self, solver, warm_start, verbose, gp, qcp, requires_grad, enforce_dpp, **kwargs)\u001b[0m\n\u001b[1;32m    741\u001b[0m                 \u001b[0;32mreturn\u001b[0m \u001b[0mself\u001b[0m\u001b[0;34m.\u001b[0m\u001b[0mvalue\u001b[0m\u001b[0;34m\u001b[0m\u001b[0;34m\u001b[0m\u001b[0m\n\u001b[1;32m    742\u001b[0m \u001b[0;34m\u001b[0m\u001b[0m\n\u001b[0;32m--> 743\u001b[0;31m         data, solving_chain, inverse_data = self.get_problem_data(\n\u001b[0m\u001b[1;32m    744\u001b[0m             solver, gp, enforce_dpp)\n\u001b[1;32m    745\u001b[0m         solution = solving_chain.solve_via_data(\n",
      "\u001b[0;32m~/Library/Caches/pypoetry/virtualenvs/optcontrol-_l3Ry8ph-py3.8/lib/python3.8/site-packages/cvxpy/problems/problem.py\u001b[0m in \u001b[0;36mget_problem_data\u001b[0;34m(self, solver, gp, enforce_dpp)\u001b[0m\n\u001b[1;32m    496\u001b[0m         \u001b[0;32mif\u001b[0m \u001b[0mkey\u001b[0m \u001b[0;34m!=\u001b[0m \u001b[0mself\u001b[0m\u001b[0;34m.\u001b[0m\u001b[0m_cache\u001b[0m\u001b[0;34m.\u001b[0m\u001b[0mkey\u001b[0m\u001b[0;34m:\u001b[0m\u001b[0;34m\u001b[0m\u001b[0;34m\u001b[0m\u001b[0m\n\u001b[1;32m    497\u001b[0m             \u001b[0mself\u001b[0m\u001b[0;34m.\u001b[0m\u001b[0m_cache\u001b[0m\u001b[0;34m.\u001b[0m\u001b[0minvalidate\u001b[0m\u001b[0;34m(\u001b[0m\u001b[0;34m)\u001b[0m\u001b[0;34m\u001b[0m\u001b[0;34m\u001b[0m\u001b[0m\n\u001b[0;32m--> 498\u001b[0;31m             solving_chain = self._construct_chain(\n\u001b[0m\u001b[1;32m    499\u001b[0m                 solver=solver, gp=gp, enforce_dpp=enforce_dpp)\n\u001b[1;32m    500\u001b[0m             \u001b[0mself\u001b[0m\u001b[0;34m.\u001b[0m\u001b[0m_cache\u001b[0m\u001b[0;34m.\u001b[0m\u001b[0mkey\u001b[0m \u001b[0;34m=\u001b[0m \u001b[0mkey\u001b[0m\u001b[0;34m\u001b[0m\u001b[0;34m\u001b[0m\u001b[0m\n",
      "\u001b[0;32m~/Library/Caches/pypoetry/virtualenvs/optcontrol-_l3Ry8ph-py3.8/lib/python3.8/site-packages/cvxpy/problems/problem.py\u001b[0m in \u001b[0;36m_construct_chain\u001b[0;34m(self, solver, gp, enforce_dpp)\u001b[0m\n\u001b[1;32m    649\u001b[0m         \"\"\"\n\u001b[1;32m    650\u001b[0m         \u001b[0mcandidate_solvers\u001b[0m \u001b[0;34m=\u001b[0m \u001b[0mself\u001b[0m\u001b[0;34m.\u001b[0m\u001b[0m_find_candidate_solvers\u001b[0m\u001b[0;34m(\u001b[0m\u001b[0msolver\u001b[0m\u001b[0;34m=\u001b[0m\u001b[0msolver\u001b[0m\u001b[0;34m,\u001b[0m \u001b[0mgp\u001b[0m\u001b[0;34m=\u001b[0m\u001b[0mgp\u001b[0m\u001b[0;34m)\u001b[0m\u001b[0;34m\u001b[0m\u001b[0;34m\u001b[0m\u001b[0m\n\u001b[0;32m--> 651\u001b[0;31m         return construct_solving_chain(self, candidate_solvers, gp=gp,\n\u001b[0m\u001b[1;32m    652\u001b[0m                                        enforce_dpp=enforce_dpp)\n\u001b[1;32m    653\u001b[0m \u001b[0;34m\u001b[0m\u001b[0m\n",
      "\u001b[0;32m~/Library/Caches/pypoetry/virtualenvs/optcontrol-_l3Ry8ph-py3.8/lib/python3.8/site-packages/cvxpy/reductions/solvers/solving_chain.py\u001b[0m in \u001b[0;36mconstruct_solving_chain\u001b[0;34m(problem, candidates, gp, enforce_dpp)\u001b[0m\n\u001b[1;32m    149\u001b[0m     \u001b[0;32mif\u001b[0m \u001b[0mlen\u001b[0m\u001b[0;34m(\u001b[0m\u001b[0mproblem\u001b[0m\u001b[0;34m.\u001b[0m\u001b[0mvariables\u001b[0m\u001b[0;34m(\u001b[0m\u001b[0;34m)\u001b[0m\u001b[0;34m)\u001b[0m \u001b[0;34m==\u001b[0m \u001b[0;36m0\u001b[0m\u001b[0;34m:\u001b[0m\u001b[0;34m\u001b[0m\u001b[0;34m\u001b[0m\u001b[0m\n\u001b[1;32m    150\u001b[0m         \u001b[0;32mreturn\u001b[0m \u001b[0mSolvingChain\u001b[0m\u001b[0;34m(\u001b[0m\u001b[0mreductions\u001b[0m\u001b[0;34m=\u001b[0m\u001b[0;34m[\u001b[0m\u001b[0mConstantSolver\u001b[0m\u001b[0;34m(\u001b[0m\u001b[0;34m)\u001b[0m\u001b[0;34m]\u001b[0m\u001b[0;34m)\u001b[0m\u001b[0;34m\u001b[0m\u001b[0;34m\u001b[0m\u001b[0m\n\u001b[0;32m--> 151\u001b[0;31m     \u001b[0mreductions\u001b[0m \u001b[0;34m=\u001b[0m \u001b[0m_reductions_for_problem_class\u001b[0m\u001b[0;34m(\u001b[0m\u001b[0mproblem\u001b[0m\u001b[0;34m,\u001b[0m \u001b[0mcandidates\u001b[0m\u001b[0;34m,\u001b[0m \u001b[0mgp\u001b[0m\u001b[0;34m)\u001b[0m\u001b[0;34m\u001b[0m\u001b[0;34m\u001b[0m\u001b[0m\n\u001b[0m\u001b[1;32m    152\u001b[0m \u001b[0;34m\u001b[0m\u001b[0m\n\u001b[1;32m    153\u001b[0m     \u001b[0mdpp_context\u001b[0m \u001b[0;34m=\u001b[0m \u001b[0;34m'dcp'\u001b[0m \u001b[0;32mif\u001b[0m \u001b[0;32mnot\u001b[0m \u001b[0mgp\u001b[0m \u001b[0;32melse\u001b[0m \u001b[0;34m'dgp'\u001b[0m\u001b[0;34m\u001b[0m\u001b[0;34m\u001b[0m\u001b[0m\n",
      "\u001b[0;32m~/Library/Caches/pypoetry/virtualenvs/optcontrol-_l3Ry8ph-py3.8/lib/python3.8/site-packages/cvxpy/reductions/solvers/solving_chain.py\u001b[0m in \u001b[0;36m_reductions_for_problem_class\u001b[0;34m(problem, candidates, gp)\u001b[0m\n\u001b[1;32m     87\u001b[0m             append += (\"\\nHowever, the problem does follow DQCP rules. \"\n\u001b[1;32m     88\u001b[0m                        \"Consider calling solve() with `qcp=True`.\")\n\u001b[0;32m---> 89\u001b[0;31m         raise DCPError(\n\u001b[0m\u001b[1;32m     90\u001b[0m             \"Problem does not follow DCP rules. Specifically:\\n\" + append)\n\u001b[1;32m     91\u001b[0m     \u001b[0;32melif\u001b[0m \u001b[0mgp\u001b[0m \u001b[0;32mand\u001b[0m \u001b[0;32mnot\u001b[0m \u001b[0mproblem\u001b[0m\u001b[0;34m.\u001b[0m\u001b[0mis_dgp\u001b[0m\u001b[0;34m(\u001b[0m\u001b[0;34m)\u001b[0m\u001b[0;34m:\u001b[0m\u001b[0;34m\u001b[0m\u001b[0;34m\u001b[0m\u001b[0m\n",
      "\u001b[0;31mDCPError\u001b[0m: Problem does not follow DCP rules. Specifically:\nThe following constraints are not DCP:\nvar755 @ var756 == 0.0 , because the following subexpressions are not:\n|--  var755 @ var756"
     ]
    }
   ],
   "source": [
    "z = cp.Variable()\n",
    "zz = cp.Variable()\n",
    "\n",
    "cp.Problem(cp.Minimize(z+zz), [z*zz==0]).solve()"
   ]
  },
  {
   "cell_type": "code",
   "execution_count": null,
   "metadata": {},
   "outputs": [],
   "source": []
  }
 ],
 "metadata": {
  "kernelspec": {
   "display_name": "optcontrol",
   "language": "python",
   "name": "optcontrol"
  },
  "language_info": {
   "codemirror_mode": {
    "name": "ipython",
    "version": 3
   },
   "file_extension": ".py",
   "mimetype": "text/x-python",
   "name": "python",
   "nbconvert_exporter": "python",
   "pygments_lexer": "ipython3",
   "version": "3.8.3"
  }
 },
 "nbformat": 4,
 "nbformat_minor": 2
}
