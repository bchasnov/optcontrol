{
 "cells": [
  {
   "cell_type": "code",
   "execution_count": 6,
   "metadata": {},
   "outputs": [
    {
     "name": "stdout",
     "output_type": "stream",
     "text": [
      "The autoreload extension is already loaded. To reload it, use:\n",
      "  %reload_ext autoreload\n"
     ]
    }
   ],
   "source": [
    "%load_ext autoreload\n",
    "%autoreload 2\n",
    "\n",
    "import cvxpy as cp\n",
    "import numpy as np\n",
    "import numpy.linalg as la\n",
    "from argparse import Namespace\n",
    "import matplotlib.pyplot as plt"
   ]
  },
  {
   "cell_type": "code",
   "execution_count": 41,
   "metadata": {},
   "outputs": [
    {
     "name": "stdout",
     "output_type": "stream",
     "text": [
      "T=15.00s trust=0.16667 rf_relax=0.00000 wp_relax=0.00000 \n",
      "T=10.00s trust=0.14286 rf_relax=0.00000 wp_relax=0.00002 \n",
      "T=5.71s trust=0.08889 rf_relax=0.00001 wp_relax=0.00000 \n",
      "T=3.05s trust=0.04890 rf_relax=0.00026 wp_relax=0.00080 \n",
      "T=1.58s trust=0.02664 rf_relax=0.00006 wp_relax=0.00025 \n",
      "T=0.78s trust=0.01130 rf_relax=0.00280 wp_relax=0.00153 \n",
      "T=1.12s trust=0.00252 rf_relax=0.10545 wp_relax=0.00665 \n",
      "T=1.05s trust=0.00026 rf_relax=0.08239 wp_relax=0.04324 \n",
      "T=1.04s trust=0.00066 rf_relax=0.08100 wp_relax=0.04509 \n",
      "T=1.02s trust=0.00065 rf_relax=0.08320 wp_relax=0.04215 \n",
      "T=1.04s trust=0.00053 rf_relax=0.08227 wp_relax=0.04391 \n",
      "T=1.02s trust=0.00032 rf_relax=0.08118 wp_relax=0.04548 \n",
      "T=1.01s trust=0.00019 rf_relax=0.08054 wp_relax=0.04583 \n",
      "T=1.01s trust=0.00016 rf_relax=0.08233 wp_relax=0.04441 \n",
      "T=1.01s trust=0.00011 rf_relax=0.08251 wp_relax=0.04420 \n",
      "T=1.02s trust=0.00002 rf_relax=0.08165 wp_relax=0.04479 \n",
      "T=1.02s trust=0.00001 rf_relax=0.08122 wp_relax=0.04473 \n",
      "T=1.02s trust=0.00008 rf_relax=0.08080 wp_relax=0.04520 \n",
      "T=1.02s trust=0.00000 rf_relax=0.08243 wp_relax=0.04425 \n"
     ]
    }
   ],
   "source": [
    "parameters = dict(K=30, ri=np.zeros(3), vi=np.zeros(3), ai=np.zeros(3),\n",
    "                  rf=np.array([.4,.0,0]), vf=np.zeros(3), af=np.zeros(3),\n",
    "                  wp=np.array([.2,.1,0]), wp_idx=12,\n",
    "                  gravity=np.array([0.,0.,-9.81]),\n",
    "                  v_max=.8, a_min=4., a_max=12.0, \n",
    "                  theta_max=np.radians(45.0),\n",
    "                  j_max=30, max_iter=30,\n",
    "                  weight_ri=1e3, weight_rf=1e4, weight_wp=1e4,\n",
    "                  weight_obs=1e2, weight_trust=1e-1, n_obs=1)\n",
    "\n",
    "\"\"\" Initialize parameters \"\"\"\n",
    "P = Namespace(**parameters)\n",
    "\n",
    "ri = cp.Parameter(3)\n",
    "vi = cp.Parameter(3)\n",
    "ai = cp.Parameter(3)\n",
    "rf = cp.Parameter(3)\n",
    "vf = cp.Parameter(3)\n",
    "af = cp.Parameter(3)\n",
    "wp = cp.Parameter(3)\n",
    "\n",
    "w_rf = cp.Parameter()\n",
    "w_wp = cp.Parameter()\n",
    "w_trust = cp.Parameter()\n",
    "# w_obs = cp.Parameter()\n",
    "# w_ri = cp.Parameter()\n",
    "\n",
    "ri.value = P.ri\n",
    "vi.value = P.vi\n",
    "ai.value = P.ai\n",
    "rf.value = P.rf\n",
    "vf.value = P.vf\n",
    "af.value = P.af\n",
    "wp.value = P.wp\n",
    "\n",
    "w_rf.value = P.weight_rf\n",
    "w_wp.value = P.weight_wp\n",
    "w_trust.value = P.weight_trust\n",
    "# w_obs.value = P.weight_obs\n",
    "# w_ri.value = P.weight_ri\n",
    "\n",
    "\"\"\" Initialize variables \"\"\"\n",
    "r = cp.Variable((P.K, 3))\n",
    "v = cp.Variable((P.K, 3))\n",
    "a = cp.Variable((P.K, 3))\n",
    "dtau = cp.Variable()\n",
    "\n",
    "r0 = cp.Parameter((P.K, 3))\n",
    "v0 = cp.Parameter((P.K, 3))\n",
    "a0 = cp.Parameter((P.K, 3))\n",
    "tau = cp.Parameter()\n",
    "\n",
    "s = cp.Variable(P.K, nonneg=True)\n",
    "eta = cp.Variable((P.K, P.n_obs), nonneg=True)\n",
    "delta = cp.Variable((P.K, 2), nonneg=True)\n",
    "trust = cp.Variable(nonneg=True)\n",
    "\n",
    "rf_relax = cp.Variable(3)\n",
    "ri_relax = cp.Variable(3)\n",
    "wp_relax = cp.Variable(3)\n",
    "\n",
    "s_ri = cp.Variable()\n",
    "s_rf = cp.Variable()\n",
    "s_wp = cp.Variable()\n",
    "\n",
    "sigma = cp.Variable(nonneg=True)\n",
    "# helper variables to maintain disciplined parametric programming\n",
    "raccel = cp.Variable((P.K-1, 3))\n",
    "Dt_raccel = cp.Variable((P.K-1, 3))\n",
    "\n",
    "f = 0\n",
    "g = dict() \n",
    "\n",
    "\"\"\" Define cost \"\"\"\n",
    "# f += cp.norm(s)\n",
    "f += tau + dtau\n",
    "# f += w_ri*s_ri\n",
    "f += w_rf*s_rf\n",
    "f += w_wp*s_wp\n",
    "f += w_trust*trust\n",
    "\n",
    "g[\"relax_rf\"] = s_rf >= cp.norm(rf_relax)\n",
    "g[\"relax_wp\"] = s_wp >= cp.norm(wp_relax)\n",
    "# g[\"relax_ri\"] = s_ri >= cp.norm(ri_relax)\n",
    "\n",
    "\"\"\" Trust Region \"\"\"\n",
    "g[\"trust_dtau\"] = cp.abs(dtau) <= trust\n",
    "# g[\"trust_pos\"] = cp.abs(r[:,:2] - r0[:,:2]) <= delta\n",
    "# g[\"trust_obs\"] = cp.sum(delta) <= trust\n",
    "\n",
    "\"\"\" Boundary conditions \"\"\"\n",
    "g[\"pos_initial\"] = r[0] == ri #+ ri_relax\n",
    "g[\"pos_final\"] = r[-1] == rf + rf_relax\n",
    "g[\"vel_initial\"] = v[0] == vi\n",
    "g[\"vel_final\"] = v[-1] == vf\n",
    "g[\"waypoint\"] = r[P.wp_idx] == wp + wp_relax\n",
    "g[\"accel_initial\"] = a[0,:2] == ai[:2]\n",
    "g[\"accel_final\"] = a[-1,:2] == af[:2]\n",
    "\n",
    "\"\"\" Dynamics \"\"\"\n",
    "grav = np.tile(P.gravity, (P.K-1, 1)) \n",
    "g[\"helper_raccel\"] = raccel == 1/2*(1/3*(2*a[:-1] + a[1:]) + grav)*tau\n",
    "g[\"helper_Dt_raccel\"] = Dt_raccel == (1/3*(2*a0[:-1] + a0[1:]) + grav)*dtau\n",
    "g[\"dynamics_pos\"] = \\\n",
    "r[1:] == r[:-1] + (v[:-1] + raccel)*tau + v0[:-1]*dtau + Dt_raccel*tau\n",
    "g[\"dynamics_vel\"] = \\\n",
    "v[1:] == v[:-1] + 1/2*(a[:-1] + a[1:] + grav)*tau \\\n",
    "       + 1/2*(a0[:-1] + a0[1:] + grav)*dtau# + v_virtual\n",
    "\n",
    "\"\"\" State constraints \"\"\"\n",
    "g[\"height_max\"] = r[:,2] <= 0\n",
    "g[\"height_min\"] = -r[:,2] >= 0\n",
    "g[\"vertical_vel\"] = cp.abs(v[:,2]) <= 0\n",
    "g[\"vel_max\"] = cp.norm(v, axis=1) <= P.v_max\n",
    "g[\"horizontal_jerk_max\"] = cp.norm(a[:-1] - a[1:], 2, axis=1) <= P.j_max*(tau + dtau)\n",
    "#g += [P.cpos_A@@r <= np.tile(P.cpos_b, (K,1))]\n",
    "\n",
    "g[\"lossless\"] = cp.norm(a, axis=1) <= s\n",
    "g[\"bank_angle\"] = np.cos(P.theta_max)*s <= a[:,2]\n",
    "g[\"thrust_min\"] = P.a_min <= s \n",
    "g[\"thrust_max\"] = s <= P.a_max\n",
    "\n",
    "prob = cp.Problem(cp.Minimize(f), list(g.values()))\n",
    "\n",
    "def update(r,v,a,t):\n",
    "    r0.value = r\n",
    "    v0.value = v\n",
    "    a0.value = a\n",
    "    tau.value = t\n",
    "    \n",
    "zeros = np.zeros((P.K,3))  \n",
    "update(zeros, zeros, zeros, 0.5)\n",
    "\n",
    "for _ in range(P.max_iter):\n",
    "    out = prob.solve(solver=\"SCS\")\n",
    "    if out == np.inf:\n",
    "        print(\"FAILED\")\n",
    "        break\n",
    "    print(f\"T={P.K*tau.value:.2f}s \"\n",
    "          f\"trust={trust.value:.5f} \"\\\n",
    "          f\"rf_relax={la.norm(rf_relax.value):.5f} \"\n",
    "          f\"wp_relax={la.norm(wp_relax.value):.5f} \")\n",
    "    if np.isclose(trust.value,0):\n",
    "        break\n",
    "    update(r.value, v.value, a.value, tau.value + dtau.value)"
   ]
  },
  {
   "cell_type": "code",
   "execution_count": 42,
   "metadata": {},
   "outputs": [
    {
     "data": {
      "image/png": "[encoded data removed]",
      "text/plain": [
       "<Figure size 432x288 with 1 Axes>"
      ]
     },
     "metadata": {
      "needs_background": "light"
     },
     "output_type": "display_data"
    },
    {
     "data": {
      "image/png": "[encoded data removed]",
      "text/plain": [
       "<Figure size 432x288 with 1 Axes>"
      ]
     },
     "metadata": {
      "needs_background": "light"
     },
     "output_type": "display_data"
    },
    {
     "data": {
      "image/png": "[encoded data removed]",
      "text/plain": [
       "<Figure size 432x288 with 1 Axes>"
      ]
     },
     "metadata": {
      "needs_background": "light"
     },
     "output_type": "display_data"
    },
    {
     "data": {
      "image/png": "[encoded data removed]",
      "text/plain": [
       "<Figure size 432x288 with 1 Axes>"
      ]
     },
     "metadata": {
      "needs_background": "light"
     },
     "output_type": "display_data"
    },
    {
     "data": {
      "image/png": "[encoded data removed]",
      "text/plain": [
       "<Figure size 432x288 with 1 Axes>"
      ]
     },
     "metadata": {
      "needs_background": "light"
     },
     "output_type": "display_data"
    }
   ],
   "source": [
    "t = np.linspace(0,P.K*tau.value,P.K) \n",
    "plt.figure()\n",
    "plt.title(\"Position\")\n",
    "plt.plot(*r.value[:,:2].T, 'o-')\n",
    "plt.plot(*ri.value[:2], 'o', fillstyle='none', ms=10)\n",
    "plt.plot(*wp.value[:2], 'o', fillstyle='none', ms=10)\n",
    "plt.plot(*rf.value[:2], 'o', fillstyle='none', ms=10)\n",
    "plt.gca().set_aspect('equal')\n",
    "plt.grid()\n",
    "#plt.plot(r.value[:,2], 'o-')\n",
    "plt.figure()\n",
    "plt.title(\"Velocity\")\n",
    "plt.gca().axhline(y=P.v_max, color='k', ls='--')\n",
    "plt.step(t, la.norm(v.value, axis=1), where=\"post\")\n",
    "# plt.plot(t, v.value, '-.')\n",
    "plt.figure()\n",
    "plt.title(\"Accel\")\n",
    "plt.gca().axhline(y=P.a_min, color='k', ls='--')\n",
    "plt.gca().axhline(y=P.a_max, color='k', ls='--')\n",
    "plt.step(t, la.norm(a.value, axis=1), where=\"post\")\n",
    "plt.step(t, a.value, '-.', where=\"post\")\n",
    "plt.figure()\n",
    "plt.title(\"Jerk\")\n",
    "plt.gca().axhline(y=P.j_max, color='k', ls='--')\n",
    "plt.step(t[:-1], la.norm(np.diff(a.value, axis=0), axis=1)/tau.value)\n",
    "#plt.plot(t, a.value, '-.')\n",
    "plt.figure()\n",
    "plt.title(\"Angle\")\n",
    "plt.gca().axhline(y=P.theta_max, color='k', ls='--')\n",
    "bank_angle = np.arccos(a.value.dot(-P.gravity)/(la.norm(a.value,axis=1)*la.norm(P.gravity)))\n",
    "plt.step(t, bank_angle)\n",
    "plt.show()"
   ]
  },
  {
   "cell_type": "code",
   "execution_count": 22,
   "metadata": {},
   "outputs": [
    {
     "data": {
      "text/plain": [
       "array([0.00000000e+00, 0.00000000e+00, 0.00000000e+00, 0.00000000e+00,\n",
       "       2.89634293e-04, 0.00000000e+00, 2.89634293e-04, 1.34105236e+01,\n",
       "       4.51971797e-01, 2.89634293e-04, 3.62709976e+00, 2.89634293e-04,\n",
       "       2.89634293e-04, 2.89634293e-04, 0.00000000e+00, 0.00000000e+00,\n",
       "       0.00000000e+00, 0.00000000e+00, 2.89634293e-04, 2.89634293e-04,\n",
       "       0.00000000e+00, 0.00000000e+00, 0.00000000e+00, 0.00000000e+00,\n",
       "       0.00000000e+00])"
      ]
     },
     "execution_count": 22,
     "metadata": {},
     "output_type": "execute_result"
    }
   ],
   "source": [
    "g[\"vel_max\"].dual_value"
   ]
  },
  {
   "cell_type": "code",
   "execution_count": 23,
   "metadata": {},
   "outputs": [
    {
     "data": {
      "text/plain": [
       "array([0.6648332 , 0.32559138, 0.10428193, 0.        , 0.        ,\n",
       "       0.021024  , 0.        , 0.        , 0.        , 0.        ,\n",
       "       0.        , 0.        , 0.        , 0.        , 0.        ,\n",
       "       0.        , 0.        , 0.        , 0.        , 0.        ,\n",
       "       0.        , 0.        , 0.        , 0.        ])"
      ]
     },
     "execution_count": 23,
     "metadata": {},
     "output_type": "execute_result"
    }
   ],
   "source": [
    "g[\"horizontal_jerk_max\"].dual_value"
   ]
  },
  {
   "cell_type": "code",
   "execution_count": null,
   "metadata": {},
   "outputs": [],
   "source": []
  }
 ],
 "metadata": {
  "kernelspec": {
   "display_name": "optcontrol",
   "language": "python",
   "name": "optcontrol"
  },
  "language_info": {
   "codemirror_mode": {
    "name": "ipython",
    "version": 3
   },
   "file_extension": ".py",
   "mimetype": "text/x-python",
   "name": "python",
   "nbconvert_exporter": "python",
   "pygments_lexer": "ipython3",
   "version": "3.8.3"
  }
 },
 "nbformat": 4,
 "nbformat_minor": 2
}
